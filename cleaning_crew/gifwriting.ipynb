{
 "cells": [
  {
   "cell_type": "code",
   "execution_count": 3,
   "metadata": {
    "collapsed": true
   },
   "outputs": [],
   "source": [
    "from __future__ import print_function, division\n",
    "import numpy as np\n",
    "import pylab as pl\n",
    "from  PIL import Image\n",
    "from images2gif import writeGif"
   ]
  },
  {
   "cell_type": "code",
   "execution_count": 45,
   "metadata": {
    "collapsed": false
   },
   "outputs": [],
   "source": [
    "#compile image files to a list\n",
    "year = np.arange(2000,2016)\n",
    "year = year.astype('str')\n",
    "images = []\n",
    "for i in year:\n",
    "    images.append(Image.open('{}.png'.format(i)))"
   ]
  },
  {
   "cell_type": "code",
   "execution_count": 43,
   "metadata": {
    "collapsed": false,
    "scrolled": true
   },
   "outputs": [
    {
     "data": {
      "text/plain": [
       "[<PIL.PngImagePlugin.PngImageFile image mode=RGBA size=1000x1000 at 0x7FC1ACFAAF38>,\n",
       " <PIL.PngImagePlugin.PngImageFile image mode=RGBA size=1000x1000 at 0x7FC1DBBFD7E8>,\n",
       " <PIL.PngImagePlugin.PngImageFile image mode=RGBA size=1000x1000 at 0x7FC1ACFFC7A0>,\n",
       " <PIL.PngImagePlugin.PngImageFile image mode=RGBA size=1000x1000 at 0x7FC1ACFFC368>,\n",
       " <PIL.PngImagePlugin.PngImageFile image mode=RGBA size=1000x1000 at 0x7FC1ACFFC1B8>,\n",
       " <PIL.PngImagePlugin.PngImageFile image mode=RGBA size=1000x1000 at 0x7FC1ACFFCAB8>,\n",
       " <PIL.PngImagePlugin.PngImageFile image mode=RGBA size=1000x1000 at 0x7FC1ACEFF7E8>,\n",
       " <PIL.PngImagePlugin.PngImageFile image mode=RGBA size=1000x1000 at 0x7FC1ACEFF7A0>,\n",
       " <PIL.PngImagePlugin.PngImageFile image mode=RGBA size=1000x1000 at 0x7FC1ACEFFB00>,\n",
       " <PIL.PngImagePlugin.PngImageFile image mode=RGBA size=1000x1000 at 0x7FC1AFAE2518>,\n",
       " <PIL.PngImagePlugin.PngImageFile image mode=RGBA size=1000x1000 at 0x7FC1AFAE2CF8>,\n",
       " <PIL.PngImagePlugin.PngImageFile image mode=RGBA size=1000x1000 at 0x7FC1AFAE23F8>,\n",
       " <PIL.PngImagePlugin.PngImageFile image mode=RGBA size=1000x1000 at 0x7FC1AFAE23B0>,\n",
       " <PIL.PngImagePlugin.PngImageFile image mode=RGBA size=1000x1000 at 0x7FC1AFAE2488>,\n",
       " <PIL.PngImagePlugin.PngImageFile image mode=RGBA size=1000x1000 at 0x7FC1AFAE25F0>,\n",
       " <PIL.PngImagePlugin.PngImageFile image mode=RGBA size=1000x1000 at 0x7FC1AFAE2710>]"
      ]
     },
     "execution_count": 43,
     "metadata": {},
     "output_type": "execute_result"
    }
   ],
   "source": [
    "images"
   ]
  },
  {
   "cell_type": "code",
   "execution_count": null,
   "metadata": {
    "collapsed": true
   },
   "outputs": [],
   "source": [
    "#write images in list to gif\n",
    "writeGif(\"images.gif\", images ,duration=0.3, dither=0)"
   ]
  }
 ],
 "metadata": {
  "kernelspec": {
   "display_name": "Python 2",
   "language": "python",
   "name": "python2"
  },
  "language_info": {
   "codemirror_mode": {
    "name": "ipython",
    "version": 2
   },
   "file_extension": ".py",
   "mimetype": "text/x-python",
   "name": "python",
   "nbconvert_exporter": "python",
   "pygments_lexer": "ipython2",
   "version": "2.7.11"
  }
 },
 "nbformat": 4,
 "nbformat_minor": 0
}
